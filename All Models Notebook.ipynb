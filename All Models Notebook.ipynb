{
 "cells": [
  {
   "cell_type": "markdown",
   "metadata": {},
   "source": [
    "# Group 7 - Models For Leather Defect Detection"
   ]
  },
  {
   "cell_type": "markdown",
   "metadata": {},
   "source": [
    "#### Libraries Used"
   ]
  },
  {
   "cell_type": "code",
   "execution_count": null,
   "metadata": {},
   "outputs": [],
   "source": [
    "import tensorflow as tf\n",
    "from tensorflow.keras import layers, models\n",
    "import matplotlib.pyplot as plt\n",
    "from tensorflow.keras.preprocessing.image import ImageDataGenerator\n",
    "from tensorflow.keras.callbacks import LearningRateScheduler, ReduceLROnPlateau, ModelCheckpoint, EarlyStopping\n",
    "import ssl\n"
   ]
  },
  {
   "cell_type": "code",
   "execution_count": 2,
   "metadata": {},
   "outputs": [],
   "source": [
    "ssl._create_default_https_context = ssl._create_unverified_context"
   ]
  },
  {
   "cell_type": "markdown",
   "metadata": {},
   "source": [
    "#### Call backs"
   ]
  },
  {
   "cell_type": "code",
   "execution_count": 4,
   "metadata": {},
   "outputs": [],
   "source": [
    "reduce_lr_on_plateau = ReduceLROnPlateau(monitor='val_loss', factor=0.2,\n",
    "                                         patience=5, min_lr=0.0001)\n",
    "\n",
    "\n",
    "model_checkpoint = ModelCheckpoint(\n",
    "    filepath='/Users/manuelmena/Documents/IE/Third Year/SEM 2 Junior/Machine Learning 2/Project/model-{epoch:02d}-{val_loss:.2f}.keras', \n",
    "    save_best_only=True,\n",
    "    monitor='val_loss', \n",
    "    mode='min',  \n",
    "    verbose=1 \n",
    ")\n",
    "\n",
    "\n",
    "early_stopping = EarlyStopping(\n",
    "    monitor='val_loss',\n",
    "    patience=5, \n",
    "    restore_best_weights=True, \n",
    "    verbose=1 \n",
    ")"
   ]
  },
  {
   "cell_type": "markdown",
   "metadata": {},
   "source": [
    "## Data Preprocessing and Loading"
   ]
  },
  {
   "cell_type": "code",
   "execution_count": null,
   "metadata": {},
   "outputs": [],
   "source": [
    "train_datagen = ImageDataGenerator(rescale=1./255, validation_split=0.2)\n",
    "\n",
    "data = '/Users/manuelmena/Desktop/Leather Defect Classification'\n",
    "train_generator = train_datagen.flow_from_directory(\n",
    "    data,\n",
    "    target_size=(224, 224),\n",
    "    batch_size=32,\n",
    "    class_mode='categorical', \n",
    "    subset='training' \n",
    ")\n",
    "\n",
    "validation_generator = train_datagen.flow_from_directory(\n",
    "    data,\n",
    "    target_size=(224, 224),\n",
    "    batch_size=32,\n",
    "    class_mode='categorical',\n",
    "    subset='validation'\n",
    ")\n"
   ]
  },
  {
   "cell_type": "markdown",
   "metadata": {},
   "source": [
    "## ResNet Model"
   ]
  },
  {
   "cell_type": "code",
   "execution_count": null,
   "metadata": {},
   "outputs": [],
   "source": [
    "\n",
    "base_model = tf.keras.applications.ResNet50(input_shape=(224, 224, 3), include_top=False, weights='imagenet')\n",
    "base_model.trainable = False\n",
    "\n",
    "resnet = models.Sequential([\n",
    "    base_model,\n",
    "    layers.GlobalAveragePooling2D(),\n",
    "    layers.Dense(1024, activation='relu'),  \n",
    "    layers.Dropout(0.3), \n",
    "    layers.Dense(512, activation='relu'), \n",
    "    layers.Dropout(0.3), \n",
    "    layers.Dense(6, activation='softmax') \n",
    "])\n",
    "\n",
    "resnet.compile(optimizer='adam', loss='categorical_crossentropy', metrics=['accuracy'])\n",
    "history_resnet = resnet.fit(\n",
    "    train_generator, \n",
    "    epochs=10, \n",
    "    validation_data=validation_generator,\n",
    "    callbacks=[reduce_lr_on_plateau, model_checkpoint, early_stopping],\n",
    "    steps_per_epoch=train_generator.n // train_generator.batch_size,\n",
    "    validation_steps=validation_generator.n // validation_generator.batch_size\n",
    "    )\n",
    "\n",
    "\n",
    "plt.plot(history_resnet.history['accuracy'], label='ResNet Accuracy')\n",
    "plt.xlabel('Epochs')\n",
    "plt.ylabel('Accuracy')\n",
    "plt.title('Model Comparison - Accuracy')\n",
    "plt.legend()\n",
    "plt.show()"
   ]
  },
  {
   "cell_type": "markdown",
   "metadata": {},
   "source": [
    "### Resnet FineTuned"
   ]
  },
  {
   "cell_type": "code",
   "execution_count": null,
   "metadata": {},
   "outputs": [],
   "source": [
    "\n",
    "base_model = tf.keras.applications.ResNet50(input_shape=(224, 224, 3), include_top=False, weights='imagenet')\n",
    "\n",
    "\n",
    "for layer in base_model.layers[:-10]:\n",
    "    layer.trainable = False\n",
    "\n",
    "\n",
    "resnet = models.Sequential([\n",
    "    base_model,\n",
    "    layers.GlobalAveragePooling2D(),\n",
    "    layers.Dense(1024, activation='relu'),  \n",
    "    layers.Dropout(0.3), \n",
    "    layers.Dense(512, activation='relu'), \n",
    "    layers.Dropout(0.3), \n",
    "    layers.Dense(6, activation='softmax') \n",
    "])\n",
    "\n",
    "resnet.compile(optimizer='adam', loss='categorical_crossentropy', metrics=['accuracy'])\n",
    "\n",
    "history_resnet = resnet.fit(\n",
    "    train_generator, \n",
    "    epochs=10, \n",
    "    validation_data=validation_generator,\n",
    "    callbacks=[reduce_lr_on_plateau, model_checkpoint, early_stopping],\n",
    "    steps_per_epoch=train_generator.n // train_generator.batch_size,\n",
    "    validation_steps=validation_generator.n // validation_generator.batch_size\n",
    ")\n",
    "\n",
    "plt.plot(history_resnet.history['accuracy'], label='ResNet Accuracy')\n",
    "plt.xlabel('Epochs')\n",
    "plt.ylabel('Accuracy')\n",
    "plt.title('Model Comparison - Accuracy')\n",
    "plt.legend()\n",
    "plt.show()"
   ]
  },
  {
   "cell_type": "markdown",
   "metadata": {},
   "source": [
    "## Efficient Net "
   ]
  },
  {
   "cell_type": "code",
   "execution_count": null,
   "metadata": {},
   "outputs": [],
   "source": [
    "\n",
    "base_model = tf.keras.applications.EfficientNetB0(include_top=False, input_shape=(224, 224, 3), weights='imagenet')\n",
    "base_model.trainable = False\n",
    "\n",
    "efficientnet = models.Sequential([\n",
    "    base_model,\n",
    "    layers.GlobalAveragePooling2D(),\n",
    "    layers.Dense(1024, activation='relu'),  \n",
    "    layers.Dropout(0.3), \n",
    "    layers.Dense(512, activation='relu'), \n",
    "    layers.Dropout(0.3), \n",
    "    layers.Dense(6, activation='softmax') \n",
    "])\n",
    "\n",
    "efficientnet.compile(optimizer='adam', loss='categorical_crossentropy', metrics=['accuracy'])\n",
    "\n",
    "\n",
    "history_efficientnet = efficientnet.fit(\n",
    "    train_generator, \n",
    "    epochs=10, \n",
    "    validation_data=validation_generator,\n",
    "    callbacks=[reduce_lr_on_plateau, model_checkpoint, early_stopping],\n",
    "    steps_per_epoch=train_generator.n // train_generator.batch_size, \n",
    "    validation_steps=validation_generator.n // validation_generator.batch_size\n",
    ")\n",
    "\n",
    "\n",
    "plt.plot(history_efficientnet.history['accuracy'], label='EfficientNet Accuracy')\n",
    "plt.xlabel('Epochs')\n",
    "plt.ylabel('Accuracy')\n",
    "plt.title('Model Comparison - Accuracy')\n",
    "plt.legend()\n",
    "plt.show()\n"
   ]
  },
  {
   "cell_type": "markdown",
   "metadata": {},
   "source": [
    "### Efficient Fine Tuned"
   ]
  },
  {
   "cell_type": "code",
   "execution_count": null,
   "metadata": {},
   "outputs": [],
   "source": [
    "base_model = tf.keras.applications.EfficientNetB0(include_top=False, input_shape=(224, 224, 3), weights='imagenet')\n",
    "for layer in base_model.layers[:-10]:\n",
    "    layer.trainable = False\n",
    "\n",
    "efficientnet = models.Sequential([\n",
    "    base_model,\n",
    "    layers.GlobalAveragePooling2D(),\n",
    "    layers.Dense(1024, activation='relu'),  \n",
    "    layers.Dropout(0.3), \n",
    "    layers.Dense(512, activation='relu'), \n",
    "    layers.Dropout(0.3), \n",
    "    layers.Dense(6, activation='softmax') \n",
    "])\n",
    "\n",
    "efficientnet.compile(optimizer='adam', loss='categorical_crossentropy', metrics=['accuracy'])\n",
    "\n",
    "\n",
    "history_efficientnet = efficientnet.fit(\n",
    "    train_generator, \n",
    "    epochs=10, \n",
    "    validation_data=validation_generator,\n",
    "    callbacks=[reduce_lr_on_plateau, model_checkpoint, early_stopping],\n",
    "    steps_per_epoch=train_generator.n // train_generator.batch_size, \n",
    "    validation_steps=validation_generator.n // validation_generator.batch_size\n",
    ")\n",
    "\n",
    "\n",
    "plt.plot(history_efficientnet.history['accuracy'], label='EfficientNet Accuracy')\n",
    "plt.xlabel('Epochs')\n",
    "plt.ylabel('Accuracy')\n",
    "plt.title('Model Comparison - Accuracy')\n",
    "plt.legend()\n",
    "plt.show()"
   ]
  },
  {
   "cell_type": "markdown",
   "metadata": {},
   "source": [
    "## VGG Fine Tuned"
   ]
  },
  {
   "cell_type": "code",
   "execution_count": null,
   "metadata": {},
   "outputs": [],
   "source": [
    "\n",
    "base_model = tf.keras.applications.VGG16(include_top=False, weights='imagenet', input_shape=(224, 224, 3))\n",
    "\n",
    "for layer in base_model.layers[:15]:\n",
    "    layer.trainable = False\n",
    "\n",
    "vgg = models.Sequential([\n",
    "    base_model,\n",
    "    layers.GlobalAveragePooling2D(),\n",
    "    layers.Dense(1024, activation='relu'),  \n",
    "    layers.Dropout(0.3), \n",
    "    layers.Dense(512, activation='relu'), \n",
    "    layers.Dropout(0.3), \n",
    "    layers.Dense(6, activation='softmax') \n",
    "])\n",
    "\n",
    "\n",
    "\n",
    "vgg.compile(optimizer='adam', loss='categorical_crossentropy', metrics=['accuracy'])\n",
    "vgg.summary()\n",
    "\n",
    "history_vgg = vgg.fit(\n",
    "    train_generator, \n",
    "    epochs=10, \n",
    "    validation_data=validation_generator,\n",
    "    callbacks=[reduce_lr_on_plateau, model_checkpoint, early_stopping],\n",
    "    steps_per_epoch=train_generator.n // train_generator.batch_size, \n",
    "    validation_steps=validation_generator.n // validation_generator.batch_size\n",
    ")\n",
    "\n",
    "\n",
    "plt.plot(history_vgg.history['accuracy'], label='VGG Accuracy')\n",
    "plt.xlabel('Epochs')\n",
    "plt.ylabel('Accuracy')\n",
    "plt.title('Model Comparison - Accuracy')\n",
    "plt.legend()\n",
    "plt.show()"
   ]
  },
  {
   "cell_type": "markdown",
   "metadata": {},
   "source": [
    "## Our CNN Model"
   ]
  },
  {
   "cell_type": "code",
   "execution_count": null,
   "metadata": {},
   "outputs": [],
   "source": [
    "cnn = models.Sequential([\n",
    "    layers.Conv2D(32, (3, 3), activation='relu', input_shape=(224, 224, 3), padding = 'valid'),\n",
    "    layers.BatchNormalization(),\n",
    "    layers.MaxPooling2D((2, 2)),\n",
    "    layers.Conv2D(64, (3, 3), activation='relu'),\n",
    "    layers.BatchNormalization(),\n",
    "    layers.MaxPooling2D((2, 2)),\n",
    "    layers.Flatten(),\n",
    "    layers.Dense(128, activation='relu'),\n",
    "    layers.Dropout(0.3),\n",
    "    layers.Dense(6, activation='softmax')\n",
    "])\n",
    "\n",
    "cnn.compile(optimizer='adam', loss='categorical_crossentropy', metrics=['accuracy'])\n",
    "\n",
    "\n",
    "history_cnn = cnn.fit(\n",
    "    train_generator, \n",
    "    epochs=10, \n",
    "    validation_data=validation_generator,\n",
    "    callbacks=[reduce_lr_on_plateau, model_checkpoint, early_stopping],\n",
    "    steps_per_epoch=train_generator.n // train_generator.batch_size, \n",
    "    validation_steps=validation_generator.n // validation_generator.batch_size\n",
    ")\n",
    "\n",
    "\n",
    "plt.plot(history_cnn.history['accuracy'], label='CNN Accuracy')\n",
    "plt.xlabel('Epochs')\n",
    "plt.ylabel('Accuracy')\n",
    "plt.title('Model Comparison - Accuracy')\n",
    "plt.legend()\n",
    "plt.show()\n"
   ]
  }
 ],
 "metadata": {
  "kernelspec": {
   "display_name": "Python 3",
   "language": "python",
   "name": "python3"
  },
  "language_info": {
   "codemirror_mode": {
    "name": "ipython",
    "version": 3
   },
   "file_extension": ".py",
   "mimetype": "text/x-python",
   "name": "python",
   "nbconvert_exporter": "python",
   "pygments_lexer": "ipython3",
   "version": "3.10.7"
  }
 },
 "nbformat": 4,
 "nbformat_minor": 2
}
